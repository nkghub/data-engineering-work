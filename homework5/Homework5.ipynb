{
 "cells": [
  {
   "cell_type": "code",
   "execution_count": 2,
   "id": "63047dd4",
   "metadata": {},
   "outputs": [],
   "source": [
    "import pyspark"
   ]
  },
  {
   "cell_type": "code",
   "execution_count": 3,
   "id": "43da4a9e",
   "metadata": {},
   "outputs": [
    {
     "data": {
      "text/plain": [
       "'/usr/local/lib/python3.9/site-packages/pyspark/__init__.py'"
      ]
     },
     "execution_count": 3,
     "metadata": {},
     "output_type": "execute_result"
    }
   ],
   "source": [
    "pyspark.__file__"
   ]
  },
  {
   "cell_type": "code",
   "execution_count": 4,
   "id": "203889cf",
   "metadata": {},
   "outputs": [],
   "source": [
    "from pyspark.sql import SparkSession"
   ]
  },
  {
   "cell_type": "code",
   "execution_count": 5,
   "id": "0ac0e1cd",
   "metadata": {},
   "outputs": [
    {
     "name": "stderr",
     "output_type": "stream",
     "text": [
      "WARNING: An illegal reflective access operation has occurred\n",
      "WARNING: Illegal reflective access by org.apache.spark.unsafe.Platform (file:/usr/local/Cellar/apache-spark/3.2.1/libexec/jars/spark-unsafe_2.12-3.2.1.jar) to constructor java.nio.DirectByteBuffer(long,int)\n",
      "WARNING: Please consider reporting this to the maintainers of org.apache.spark.unsafe.Platform\n",
      "WARNING: Use --illegal-access=warn to enable warnings of further illegal reflective access operations\n",
      "WARNING: All illegal access operations will be denied in a future release\n",
      "Using Spark's default log4j profile: org/apache/spark/log4j-defaults.properties\n",
      "Setting default log level to \"WARN\".\n",
      "To adjust logging level use sc.setLogLevel(newLevel). For SparkR, use setLogLevel(newLevel).\n",
      "22/03/01 13:51:15 WARN NativeCodeLoader: Unable to load native-hadoop library for your platform... using builtin-java classes where applicable\n"
     ]
    }
   ],
   "source": [
    "spark = SparkSession.builder \\\n",
    "    .master(\"local[*]\") \\\n",
    "    .appName('test') \\\n",
    "    .getOrCreate()"
   ]
  },
  {
   "cell_type": "code",
   "execution_count": 6,
   "id": "d64acf3f",
   "metadata": {},
   "outputs": [
    {
     "name": "stdout",
     "output_type": "stream",
     "text": [
      "--2022-03-01 13:52:55--  https://nyc-tlc.s3.amazonaws.com/trip+data/fhvhv_tripdata_2021-02.csv\n",
      "Resolving nyc-tlc.s3.amazonaws.com (nyc-tlc.s3.amazonaws.com)... 52.217.204.145\n",
      "Connecting to nyc-tlc.s3.amazonaws.com (nyc-tlc.s3.amazonaws.com)|52.217.204.145|:443... connected.\n",
      "HTTP request sent, awaiting response... 200 OK\n",
      "Length: 733822658 (700M) [text/csv]\n",
      "Saving to: ‘fhvhv_tripdata_2021-02.csv’\n",
      "\n",
      "fhvhv_tripdata_2021 100%[===================>] 699.83M  42.0MB/s    in 17s     \n",
      "\n",
      "2022-03-01 13:53:12 (41.0 MB/s) - ‘fhvhv_tripdata_2021-02.csv’ saved [733822658/733822658]\n",
      "\n"
     ]
    }
   ],
   "source": [
    "!wget https://nyc-tlc.s3.amazonaws.com/trip+data/fhvhv_tripdata_2021-02.csv"
   ]
  },
  {
   "cell_type": "code",
   "execution_count": 32,
   "id": "7d90bcc4",
   "metadata": {},
   "outputs": [],
   "source": [
    "df = spark.read \\\n",
    "    .option(\"header\", \"true\") \\\n",
    "    .csv('fhvhv_tripdata_2021-02.csv')"
   ]
  },
  {
   "cell_type": "code",
   "execution_count": 33,
   "id": "e0f87faf",
   "metadata": {},
   "outputs": [
    {
     "name": "stdout",
     "output_type": "stream",
     "text": [
      "hvfhs_license_num,dispatching_base_num,pickup_datetime,dropoff_datetime,PULocationID,DOLocationID,SR_Flag\r",
      "\r\n",
      "HV0003,B02764,2021-02-01 00:10:40,2021-02-01 00:21:09,35,39,\r",
      "\r\n",
      "HV0003,B02764,2021-02-01 00:27:23,2021-02-01 00:44:01,39,35,\r",
      "\r\n",
      "HV0005,B02510,2021-02-01 00:28:38,2021-02-01 00:38:27,39,91,\r",
      "\r\n",
      "HV0005,B02510,2021-02-01 00:43:37,2021-02-01 01:23:20,91,228,\r",
      "\r\n",
      "HV0003,B02872,2021-02-01 00:08:42,2021-02-01 00:17:57,126,250,\r",
      "\r\n",
      "HV0003,B02872,2021-02-01 00:26:02,2021-02-01 00:42:51,208,243,\r",
      "\r\n",
      "HV0003,B02872,2021-02-01 00:45:50,2021-02-01 01:02:50,243,220,\r",
      "\r\n",
      "HV0003,B02764,2021-02-01 00:06:42,2021-02-01 00:31:50,49,37,\r",
      "\r\n",
      "HV0003,B02764,2021-02-01 00:34:34,2021-02-01 00:58:13,37,76,\r",
      "\r\n"
     ]
    }
   ],
   "source": [
    "!head fhvhv_tripdata_2021-02.csv"
   ]
  },
  {
   "cell_type": "code",
   "execution_count": 34,
   "id": "ce259a07",
   "metadata": {},
   "outputs": [
    {
     "data": {
      "text/plain": [
       "StructType(List(StructField(hvfhs_license_num,StringType,true),StructField(dispatching_base_num,StringType,true),StructField(pickup_datetime,StringType,true),StructField(dropoff_datetime,StringType,true),StructField(PULocationID,StringType,true),StructField(DOLocationID,StringType,true),StructField(SR_Flag,StringType,true)))"
      ]
     },
     "execution_count": 34,
     "metadata": {},
     "output_type": "execute_result"
    }
   ],
   "source": [
    "df.schema"
   ]
  },
  {
   "cell_type": "code",
   "execution_count": 25,
   "id": "290912d9",
   "metadata": {},
   "outputs": [
    {
     "name": "stdout",
     "output_type": "stream",
     "text": [
      "+-----------------+--------------------+-------------------+-------------------+------------+------------+-------+\n",
      "|hvfhs_license_num|dispatching_base_num|    pickup_datetime|   dropoff_datetime|PULocationID|DOLocationID|SR_Flag|\n",
      "+-----------------+--------------------+-------------------+-------------------+------------+------------+-------+\n",
      "|           HV0003|              B02764|2021-02-01 00:10:40|2021-02-01 00:21:09|          35|          39|   null|\n",
      "|           HV0003|              B02764|2021-02-01 00:27:23|2021-02-01 00:44:01|          39|          35|   null|\n",
      "|           HV0005|              B02510|2021-02-01 00:28:38|2021-02-01 00:38:27|          39|          91|   null|\n",
      "|           HV0005|              B02510|2021-02-01 00:43:37|2021-02-01 01:23:20|          91|         228|   null|\n",
      "|           HV0003|              B02872|2021-02-01 00:08:42|2021-02-01 00:17:57|         126|         250|   null|\n",
      "|           HV0003|              B02872|2021-02-01 00:26:02|2021-02-01 00:42:51|         208|         243|   null|\n",
      "|           HV0003|              B02872|2021-02-01 00:45:50|2021-02-01 01:02:50|         243|         220|   null|\n",
      "|           HV0003|              B02764|2021-02-01 00:06:42|2021-02-01 00:31:50|          49|          37|   null|\n",
      "|           HV0003|              B02764|2021-02-01 00:34:34|2021-02-01 00:58:13|          37|          76|   null|\n",
      "|           HV0005|              B02510|2021-02-01 00:03:43|2021-02-01 00:39:37|          80|         241|   null|\n",
      "|           HV0005|              B02510|2021-02-01 00:55:36|2021-02-01 01:08:39|         174|          51|   null|\n",
      "|           HV0005|              B02510|2021-02-01 00:06:13|2021-02-01 00:33:45|         235|         129|   null|\n",
      "|           HV0005|              B02510|2021-02-01 00:42:24|2021-02-01 01:11:31|         129|         169|   null|\n",
      "|           HV0003|              B02764|2021-02-01 00:07:05|2021-02-01 00:20:53|         226|          82|   null|\n",
      "|           HV0003|              B02764|2021-02-01 00:28:56|2021-02-01 00:33:59|          82|         129|   null|\n",
      "|           HV0003|              B02764|2021-02-01 00:44:53|2021-02-01 01:07:54|           7|          79|   null|\n",
      "|           HV0003|              B02888|2021-02-01 00:17:55|2021-02-01 00:34:41|           4|         170|   null|\n",
      "|           HV0003|              B02888|2021-02-01 00:38:14|2021-02-01 00:59:20|         164|          42|   null|\n",
      "|           HV0004|              B02800|2021-02-01 00:08:04|2021-02-01 00:24:41|         237|           4|   null|\n",
      "|           HV0004|              B02800|2021-02-01 00:30:44|2021-02-01 00:41:26|         107|          45|   null|\n",
      "+-----------------+--------------------+-------------------+-------------------+------------+------------+-------+\n",
      "only showing top 20 rows\n",
      "\n"
     ]
    }
   ],
   "source": [
    "df.show()\n"
   ]
  },
  {
   "cell_type": "code",
   "execution_count": 47,
   "id": "45776118",
   "metadata": {},
   "outputs": [],
   "source": [
    "import pandas as pd"
   ]
  },
  {
   "cell_type": "code",
   "execution_count": 48,
   "id": "5c471af2",
   "metadata": {},
   "outputs": [],
   "source": [
    "from pyspark.sql import types"
   ]
  },
  {
   "cell_type": "code",
   "execution_count": 49,
   "id": "2d74e5a7",
   "metadata": {},
   "outputs": [],
   "source": [
    "fhvhv_schema = types.StructType([\n",
    "    types.StructField(\"hvfhs_license_num\", types.StringType(), True),\n",
    "    types.StructField(\"dispatching_base_num\", types.StringType(), True),\n",
    "    types.StructField(\"pickup_datetime\", types.TimestampType(), True),\n",
    "    types.StructField(\"dropoff_datetime\", types.TimestampType(), True),\n",
    "    types.StructField(\"PULocationID\", types.IntegerType(), True),\n",
    "    types.StructField(\"DOLocationID\", types.IntegerType(), True),\n",
    "    types.StructField(\"SR_Flag\", types.StringType(), True)\n",
    "])\n",
    "\n",
    "\n",
    "\n",
    "\n",
    "\n",
    "\n"
   ]
  },
  {
   "cell_type": "code",
   "execution_count": 50,
   "id": "2706c3b0",
   "metadata": {},
   "outputs": [],
   "source": [
    "df = spark.read \\\n",
    "    .option(\"header\", \"true\") \\\n",
    "    .schema(fhvhv_schema) \\\n",
    "    .csv('fhvhv_tripdata_2021-02.csv')"
   ]
  },
  {
   "cell_type": "code",
   "execution_count": 51,
   "id": "d052fe1d",
   "metadata": {},
   "outputs": [],
   "source": [
    "df = df.repartition(24)"
   ]
  },
  {
   "cell_type": "code",
   "execution_count": 52,
   "id": "c486e2bb",
   "metadata": {
    "scrolled": true
   },
   "outputs": [
    {
     "name": "stderr",
     "output_type": "stream",
     "text": [
      "22/03/01 15:47:41 WARN MemoryManager: Total allocation exceeds 95.00% (1,020,054,720 bytes) of heap memory\n",
      "Scaling row group sizes to 95.00% for 8 writers\n",
      "22/03/01 15:47:43 WARN MemoryManager: Total allocation exceeds 95.00% (1,020,054,720 bytes) of heap memory\n",
      "Scaling row group sizes to 95.00% for 8 writers\n",
      "22/03/01 15:47:45 WARN MemoryManager: Total allocation exceeds 95.00% (1,020,054,720 bytes) of heap memory\n",
      "Scaling row group sizes to 95.00% for 8 writers\n",
      "22/03/01 15:47:46 WARN MemoryManager: Total allocation exceeds 95.00% (1,020,054,720 bytes) of heap memory\n",
      "Scaling row group sizes to 95.00% for 8 writers\n",
      "                                                                                \r"
     ]
    }
   ],
   "source": [
    "df.write.parquet('fhvhv/2021/02/')"
   ]
  },
  {
   "cell_type": "code",
   "execution_count": 56,
   "id": "7878a84a",
   "metadata": {},
   "outputs": [
    {
     "name": "stdout",
     "output_type": "stream",
     "text": [
      "221M\tfhvhv/2021/02\r\n",
      "221M\tfhvhv/2021\r\n",
      "221M\tfhvhv\r\n"
     ]
    }
   ],
   "source": [
    "!du -h fhvhv"
   ]
  },
  {
   "cell_type": "code",
   "execution_count": 53,
   "id": "efd463b0",
   "metadata": {},
   "outputs": [
    {
     "name": "stdout",
     "output_type": "stream",
     "text": [
      "root\n",
      " |-- hvfhs_license_num: string (nullable = true)\n",
      " |-- dispatching_base_num: string (nullable = true)\n",
      " |-- pickup_datetime: timestamp (nullable = true)\n",
      " |-- dropoff_datetime: timestamp (nullable = true)\n",
      " |-- PULocationID: integer (nullable = true)\n",
      " |-- DOLocationID: integer (nullable = true)\n",
      " |-- SR_Flag: string (nullable = true)\n",
      "\n"
     ]
    }
   ],
   "source": [
    "df.printSchema()\n"
   ]
  },
  {
   "cell_type": "code",
   "execution_count": 54,
   "id": "5b0ac6a1",
   "metadata": {},
   "outputs": [],
   "source": [
    "from pyspark.sql import functions as F"
   ]
  },
  {
   "cell_type": "code",
   "execution_count": 55,
   "id": "cb5d60d7",
   "metadata": {
    "scrolled": true
   },
   "outputs": [
    {
     "name": "stderr",
     "output_type": "stream",
     "text": [
      "[Stage 24:=============================>                            (4 + 4) / 8]\r"
     ]
    },
    {
     "name": "stdout",
     "output_type": "stream",
     "text": [
      "+-----------------+--------------------+-------------------+-------------------+------------+------------+-------+\n",
      "|hvfhs_license_num|dispatching_base_num|    pickup_datetime|   dropoff_datetime|PULocationID|DOLocationID|SR_Flag|\n",
      "+-----------------+--------------------+-------------------+-------------------+------------+------------+-------+\n",
      "|           HV0003|              B02878|2021-02-02 18:18:35|2021-02-02 18:31:43|          70|          83|   null|\n",
      "|           HV0005|              B02510|2021-02-04 05:08:43|2021-02-04 05:20:04|         242|         254|   null|\n",
      "|           HV0003|              B02872|2021-02-03 18:10:19|2021-02-03 18:26:11|         145|         263|   null|\n",
      "|           HV0003|              B02765|2021-02-05 05:11:52|2021-02-05 05:15:50|          37|          37|   null|\n",
      "|           HV0005|              B02510|2021-02-02 17:52:04|2021-02-02 18:23:03|         132|          61|   null|\n",
      "|           HV0003|              B02889|2021-02-02 18:54:44|2021-02-02 19:21:05|          31|          69|   null|\n",
      "|           HV0003|              B02883|2021-02-03 19:06:06|2021-02-03 19:13:17|         197|         258|   null|\n",
      "|           HV0003|              B02878|2021-02-04 07:43:46|2021-02-04 07:59:41|         242|         254|   null|\n",
      "|           HV0003|              B02887|2021-02-04 09:51:35|2021-02-04 10:24:44|          44|         214|   null|\n",
      "|           HV0005|              B02510|2021-02-02 17:22:58|2021-02-02 17:28:26|          85|          71|   null|\n",
      "|           HV0003|              B02836|2021-02-04 06:51:40|2021-02-04 07:03:29|         224|          13|   null|\n",
      "|           HV0003|              B02878|2021-02-02 18:45:21|2021-02-02 19:05:25|         160|           7|   null|\n",
      "|           HV0003|              B02869|2021-02-03 19:17:43|2021-02-03 19:33:26|          39|          72|   null|\n",
      "|           HV0003|              B02872|2021-02-03 14:06:00|2021-02-03 14:22:33|         186|           4|   null|\n",
      "|           HV0005|              B02510|2021-02-04 00:22:01|2021-02-04 00:33:59|          74|          74|   null|\n",
      "|           HV0005|              B02510|2021-02-03 12:52:21|2021-02-03 13:10:03|          89|          85|   null|\n",
      "|           HV0005|              B02510|2021-02-04 00:59:01|2021-02-04 01:05:38|          37|          36|   null|\n",
      "|           HV0003|              B02875|2021-02-04 19:39:09|2021-02-04 19:44:16|          37|          36|   null|\n",
      "|           HV0003|              B02835|2021-02-03 06:03:24|2021-02-03 06:19:32|         177|          71|   null|\n",
      "|           HV0003|              B02884|2021-02-04 18:07:48|2021-02-04 18:15:29|         161|         233|   null|\n",
      "+-----------------+--------------------+-------------------+-------------------+------------+------------+-------+\n",
      "only showing top 20 rows\n",
      "\n"
     ]
    },
    {
     "name": "stderr",
     "output_type": "stream",
     "text": [
      "\r",
      "                                                                                \r"
     ]
    }
   ],
   "source": [
    "df.show()"
   ]
  },
  {
   "cell_type": "code",
   "execution_count": 58,
   "id": "49926018",
   "metadata": {},
   "outputs": [],
   "source": [
    "df.registerTempTable('fhvhv')"
   ]
  },
  {
   "cell_type": "code",
   "execution_count": 59,
   "id": "f7fe7d37",
   "metadata": {},
   "outputs": [
    {
     "name": "stderr",
     "output_type": "stream",
     "text": [
      "[Stage 27:==================================================>       (7 + 1) / 8]\r"
     ]
    },
    {
     "name": "stdout",
     "output_type": "stream",
     "text": [
      "+--------+\n",
      "|count(1)|\n",
      "+--------+\n",
      "|  367170|\n",
      "+--------+\n",
      "\n"
     ]
    },
    {
     "name": "stderr",
     "output_type": "stream",
     "text": [
      "\r",
      "                                                                                \r"
     ]
    }
   ],
   "source": [
    "spark.sql(\"\"\"\n",
    "SELECT\n",
    "    COUNT(1)\n",
    "FROM\n",
    "    fhvhv\n",
    "WHERE\n",
    "    DATE(pickup_datetime) = '2021-02-15'\n",
    "\"\"\").show()"
   ]
  },
  {
   "cell_type": "code",
   "execution_count": 60,
   "id": "bd3a9d4a",
   "metadata": {},
   "outputs": [],
   "source": [
    "from pyspark.sql.functions import col, asc,desc"
   ]
  },
  {
   "cell_type": "code",
   "execution_count": 66,
   "id": "2b28212d",
   "metadata": {},
   "outputs": [
    {
     "name": "stderr",
     "output_type": "stream",
     "text": [
      "[Stage 44:=====================================>                  (16 + 8) / 24]\r"
     ]
    },
    {
     "name": "stdout",
     "output_type": "stream",
     "text": [
      "+-----------------+--------------------+-------------------+-------------------+------------+------------+-------+----------------+\n",
      "|hvfhs_license_num|dispatching_base_num|    pickup_datetime|   dropoff_datetime|PULocationID|DOLocationID|SR_Flag|duration_seconds|\n",
      "+-----------------+--------------------+-------------------+-------------------+------------+------------+-------+----------------+\n",
      "|           HV0005|              B02510|2021-02-11 13:40:44|2021-02-12 10:39:44|         247|          41|   null|           75540|\n",
      "|           HV0004|              B02800|2021-02-17 15:54:53|2021-02-18 07:48:34|         242|         254|   null|           57221|\n",
      "|           HV0004|              B02800|2021-02-20 12:08:15|2021-02-21 00:22:14|         188|          55|   null|           44039|\n",
      "|           HV0003|              B02864|2021-02-03 20:24:25|2021-02-04 07:41:58|          51|         147|   null|           40653|\n",
      "|           HV0003|              B02887|2021-02-19 23:17:44|2021-02-20 09:44:01|         210|         149|   null|           37577|\n",
      "|           HV0003|              B02764|2021-02-25 17:13:35|2021-02-26 02:57:05|         174|         126|   null|           35010|\n",
      "|           HV0003|              B02875|2021-02-20 01:36:13|2021-02-20 11:16:19|         242|          31|   null|           34806|\n",
      "|           HV0005|              B02510|2021-02-18 15:24:19|2021-02-19 01:01:11|         196|         197|   null|           34612|\n",
      "|           HV0003|              B02764|2021-02-18 01:31:20|2021-02-18 11:07:15|          89|         265|   null|           34555|\n",
      "|           HV0005|              B02510|2021-02-10 20:51:39|2021-02-11 06:21:08|         254|         259|   null|           34169|\n",
      "|           HV0003|              B02764|2021-02-10 01:56:17|2021-02-10 10:57:33|          61|         265|   null|           32476|\n",
      "|           HV0005|              B02510|2021-02-25 09:18:18|2021-02-25 18:18:57|         169|         265|   null|           32439|\n",
      "|           HV0005|              B02510|2021-02-21 19:59:13|2021-02-22 04:56:16|          10|          10|   null|           32223|\n",
      "|           HV0003|              B02864|2021-02-09 18:36:13|2021-02-10 03:31:00|          78|         147|   null|           32087|\n",
      "|           HV0004|              B02800|2021-02-06 09:48:09|2021-02-06 18:32:16|         229|         188|   null|           31447|\n",
      "|           HV0005|              B02510|2021-02-02 09:42:30|2021-02-02 18:17:43|          85|          85|   null|           30913|\n",
      "|           HV0005|              B02510|2021-02-10 10:12:08|2021-02-10 18:46:24|          29|         125|   null|           30856|\n",
      "|           HV0003|              B02764|2021-02-09 13:30:13|2021-02-09 22:02:25|         188|         265|   null|           30732|\n",
      "|           HV0005|              B02510|2021-02-21 22:50:52|2021-02-22 07:21:52|         177|          73|   null|           30660|\n",
      "|           HV0005|              B02510|2021-02-05 21:32:33|2021-02-06 06:01:04|          97|          72|   null|           30511|\n",
      "+-----------------+--------------------+-------------------+-------------------+------------+------------+-------+----------------+\n",
      "only showing top 20 rows\n",
      "\n"
     ]
    },
    {
     "name": "stderr",
     "output_type": "stream",
     "text": [
      "\r",
      "[Stage 44:===================================================>    (22 + 2) / 24]\r",
      "\r",
      "                                                                                \r"
     ]
    }
   ],
   "source": [
    "df \\\n",
    "    .withColumn('duration_seconds', df.dropoff_datetime.cast('long')-df.pickup_datetime.cast('long')) \\\n",
    "    .orderBy(col('duration_seconds').desc()) \\\n",
    "    .show()"
   ]
  },
  {
   "cell_type": "code",
   "execution_count": 67,
   "id": "4b6de43e",
   "metadata": {},
   "outputs": [
    {
     "name": "stderr",
     "output_type": "stream",
     "text": [
      "[Stage 47:===================>                                     (8 + 8) / 24]\r"
     ]
    },
    {
     "name": "stdout",
     "output_type": "stream",
     "text": [
      "+-------------------+-------------------+--------+\n",
      "|    pickup_datetime|   dropoff_datetime|duration|\n",
      "+-------------------+-------------------+--------+\n",
      "|2021-02-11 13:40:44|2021-02-12 10:39:44|   75540|\n",
      "|2021-02-17 15:54:53|2021-02-18 07:48:34|   57221|\n",
      "|2021-02-20 12:08:15|2021-02-21 00:22:14|   44039|\n",
      "|2021-02-03 20:24:25|2021-02-04 07:41:58|   40653|\n",
      "|2021-02-19 23:17:44|2021-02-20 09:44:01|   37577|\n",
      "|2021-02-25 17:13:35|2021-02-26 02:57:05|   35010|\n",
      "|2021-02-20 01:36:13|2021-02-20 11:16:19|   34806|\n",
      "|2021-02-18 15:24:19|2021-02-19 01:01:11|   34612|\n",
      "|2021-02-18 01:31:20|2021-02-18 11:07:15|   34555|\n",
      "|2021-02-10 20:51:39|2021-02-11 06:21:08|   34169|\n",
      "|2021-02-10 01:56:17|2021-02-10 10:57:33|   32476|\n",
      "|2021-02-25 09:18:18|2021-02-25 18:18:57|   32439|\n",
      "|2021-02-21 19:59:13|2021-02-22 04:56:16|   32223|\n",
      "|2021-02-09 18:36:13|2021-02-10 03:31:00|   32087|\n",
      "|2021-02-06 09:48:09|2021-02-06 18:32:16|   31447|\n",
      "|2021-02-02 09:42:30|2021-02-02 18:17:43|   30913|\n",
      "|2021-02-10 10:12:08|2021-02-10 18:46:24|   30856|\n",
      "|2021-02-09 13:30:13|2021-02-09 22:02:25|   30732|\n",
      "|2021-02-21 22:50:52|2021-02-22 07:21:52|   30660|\n",
      "|2021-02-05 21:32:33|2021-02-06 06:01:04|   30511|\n",
      "+-------------------+-------------------+--------+\n",
      "only showing top 20 rows\n",
      "\n"
     ]
    },
    {
     "name": "stderr",
     "output_type": "stream",
     "text": [
      "\r",
      "[Stage 47:=====================================>                  (16 + 8) / 24]\r",
      "\r",
      "                                                                                \r"
     ]
    }
   ],
   "source": [
    "spark.sql(\"\"\"\n",
    "SELECT\n",
    "    pickup_datetime, dropoff_datetime,\n",
    "    (unix_timestamp(dropoff_datetime) - unix_timestamp(pickup_datetime)) AS duration\n",
    "FROM\n",
    "    fhvhv\n",
    "ORDER BY\n",
    "    duration DESC\n",
    "\"\"\").show()"
   ]
  },
  {
   "cell_type": "code",
   "execution_count": 68,
   "id": "e4c0eb09",
   "metadata": {
    "scrolled": true
   },
   "outputs": [
    {
     "name": "stderr",
     "output_type": "stream",
     "text": [
      "[Stage 50:=====================================>                  (16 + 8) / 24]\r"
     ]
    },
    {
     "name": "stdout",
     "output_type": "stream",
     "text": [
      "+--------------------+----------+\n",
      "|dispatching_base_num|maxbasenum|\n",
      "+--------------------+----------+\n",
      "|              B02510|   3233664|\n",
      "|              B02764|    965568|\n",
      "|              B02872|    882689|\n",
      "|              B02875|    685390|\n",
      "|              B02765|    559768|\n",
      "|              B02869|    429720|\n",
      "|              B02887|    322331|\n",
      "|              B02871|    312364|\n",
      "|              B02864|    311603|\n",
      "|              B02866|    311089|\n",
      "|              B02878|    305185|\n",
      "|              B02682|    303255|\n",
      "|              B02617|    274510|\n",
      "|              B02883|    251617|\n",
      "|              B02884|    244963|\n",
      "|              B02882|    232173|\n",
      "|              B02876|    215693|\n",
      "|              B02879|    210137|\n",
      "|              B02867|    200530|\n",
      "|              B02877|    198938|\n",
      "+--------------------+----------+\n",
      "only showing top 20 rows\n",
      "\n"
     ]
    },
    {
     "name": "stderr",
     "output_type": "stream",
     "text": [
      "\r",
      "                                                                                \r"
     ]
    }
   ],
   "source": [
    "spark.sql(\"\"\"\n",
    "SELECT\n",
    "    dispatching_base_num,\n",
    "    COUNT(dispatching_base_num) as maxbasenum\n",
    "FROM\n",
    "    fhvhv\n",
    "GROUP BY\n",
    "    dispatching_base_num\n",
    "ORDER BY\n",
    "    maxbasenum DESC\n",
    "\"\"\").show()"
   ]
  },
  {
   "cell_type": "code",
   "execution_count": 69,
   "id": "93724214",
   "metadata": {},
   "outputs": [],
   "source": [
    "df_zones = spark.read.parquet('zones/')"
   ]
  },
  {
   "cell_type": "code",
   "execution_count": 71,
   "id": "44353098",
   "metadata": {},
   "outputs": [
    {
     "name": "stdout",
     "output_type": "stream",
     "text": [
      "+----------+-------------+--------------------+------------+\n",
      "|LocationID|      Borough|                Zone|service_zone|\n",
      "+----------+-------------+--------------------+------------+\n",
      "|         1|          EWR|      Newark Airport|         EWR|\n",
      "|         2|       Queens|         Jamaica Bay|   Boro Zone|\n",
      "|         3|        Bronx|Allerton/Pelham G...|   Boro Zone|\n",
      "|         4|    Manhattan|       Alphabet City| Yellow Zone|\n",
      "|         5|Staten Island|       Arden Heights|   Boro Zone|\n",
      "|         6|Staten Island|Arrochar/Fort Wad...|   Boro Zone|\n",
      "|         7|       Queens|             Astoria|   Boro Zone|\n",
      "|         8|       Queens|        Astoria Park|   Boro Zone|\n",
      "|         9|       Queens|          Auburndale|   Boro Zone|\n",
      "|        10|       Queens|        Baisley Park|   Boro Zone|\n",
      "|        11|     Brooklyn|          Bath Beach|   Boro Zone|\n",
      "|        12|    Manhattan|        Battery Park| Yellow Zone|\n",
      "|        13|    Manhattan|   Battery Park City| Yellow Zone|\n",
      "|        14|     Brooklyn|           Bay Ridge|   Boro Zone|\n",
      "|        15|       Queens|Bay Terrace/Fort ...|   Boro Zone|\n",
      "|        16|       Queens|             Bayside|   Boro Zone|\n",
      "|        17|     Brooklyn|             Bedford|   Boro Zone|\n",
      "|        18|        Bronx|        Bedford Park|   Boro Zone|\n",
      "|        19|       Queens|           Bellerose|   Boro Zone|\n",
      "|        20|        Bronx|             Belmont|   Boro Zone|\n",
      "+----------+-------------+--------------------+------------+\n",
      "only showing top 20 rows\n",
      "\n"
     ]
    }
   ],
   "source": [
    "df_zones.show()"
   ]
  },
  {
   "cell_type": "code",
   "execution_count": 73,
   "id": "f3c29b3f",
   "metadata": {},
   "outputs": [],
   "source": [
    "zpu = df_zones \\\n",
    "    .withColumnRenamed('Zone', 'PUZone') \\\n",
    "    .withColumnRenamed('LocationID', 'PULocationID') \\\n",
    "    .withColumnRenamed('Borough', 'PUBorough') \\\n",
    "    .drop('service_zone')\n",
    "zdo = df_zones \\\n",
    "    .withColumnRenamed('Zone', 'DOZone') \\\n",
    "    .withColumnRenamed('LocationID', 'DOLocationID') \\\n",
    "    .withColumnRenamed('Borough', 'DOBorough') \\\n",
    "    .drop('service_zone')\n"
   ]
  },
  {
   "cell_type": "code",
   "execution_count": 74,
   "id": "7f7b4b2a",
   "metadata": {},
   "outputs": [],
   "source": [
    "df_join_temp = df.join(zpu, df.PULocationID == zpu.PULocationID)\n"
   ]
  },
  {
   "cell_type": "code",
   "execution_count": 76,
   "id": "72e59b37",
   "metadata": {},
   "outputs": [
    {
     "name": "stderr",
     "output_type": "stream",
     "text": [
      "[Stage 57:=======>                                                  (1 + 7) / 8]\r"
     ]
    },
    {
     "name": "stdout",
     "output_type": "stream",
     "text": [
      "+-----------------+--------------------+-------------------+-------------------+------------+------------+-------+------------+-------------+--------------------+\n",
      "|hvfhs_license_num|dispatching_base_num|    pickup_datetime|   dropoff_datetime|PULocationID|DOLocationID|SR_Flag|PULocationID|    PUBorough|              PUZone|\n",
      "+-----------------+--------------------+-------------------+-------------------+------------+------------+-------+------------+-------------+--------------------+\n",
      "|           HV0003|              B02878|2021-02-02 18:18:35|2021-02-02 18:31:43|          70|          83|   null|          70|       Queens|       East Elmhurst|\n",
      "|           HV0005|              B02510|2021-02-04 05:08:43|2021-02-04 05:20:04|         242|         254|   null|         242|        Bronx|Van Nest/Morris Park|\n",
      "|           HV0003|              B02872|2021-02-03 18:10:19|2021-02-03 18:26:11|         145|         263|   null|         145|       Queens|Long Island City/...|\n",
      "|           HV0003|              B02765|2021-02-05 05:11:52|2021-02-05 05:15:50|          37|          37|   null|          37|     Brooklyn|      Bushwick South|\n",
      "|           HV0005|              B02510|2021-02-02 17:52:04|2021-02-02 18:23:03|         132|          61|   null|         132|       Queens|         JFK Airport|\n",
      "|           HV0003|              B02889|2021-02-02 18:54:44|2021-02-02 19:21:05|          31|          69|   null|          31|        Bronx|          Bronx Park|\n",
      "|           HV0003|              B02883|2021-02-03 19:06:06|2021-02-03 19:13:17|         197|         258|   null|         197|       Queens|       Richmond Hill|\n",
      "|           HV0003|              B02878|2021-02-04 07:43:46|2021-02-04 07:59:41|         242|         254|   null|         242|        Bronx|Van Nest/Morris Park|\n",
      "|           HV0003|              B02887|2021-02-04 09:51:35|2021-02-04 10:24:44|          44|         214|   null|          44|Staten Island|Charleston/Totten...|\n",
      "|           HV0005|              B02510|2021-02-02 17:22:58|2021-02-02 17:28:26|          85|          71|   null|          85|     Brooklyn|             Erasmus|\n",
      "|           HV0003|              B02836|2021-02-04 06:51:40|2021-02-04 07:03:29|         224|          13|   null|         224|    Manhattan|Stuy Town/Peter C...|\n",
      "|           HV0003|              B02878|2021-02-02 18:45:21|2021-02-02 19:05:25|         160|           7|   null|         160|       Queens|      Middle Village|\n",
      "|           HV0003|              B02869|2021-02-03 19:17:43|2021-02-03 19:33:26|          39|          72|   null|          39|     Brooklyn|            Canarsie|\n",
      "|           HV0003|              B02872|2021-02-03 14:06:00|2021-02-03 14:22:33|         186|           4|   null|         186|    Manhattan|Penn Station/Madi...|\n",
      "|           HV0005|              B02510|2021-02-04 00:22:01|2021-02-04 00:33:59|          74|          74|   null|          74|    Manhattan|   East Harlem North|\n",
      "|           HV0005|              B02510|2021-02-03 12:52:21|2021-02-03 13:10:03|          89|          85|   null|          89|     Brooklyn|Flatbush/Ditmas Park|\n",
      "|           HV0005|              B02510|2021-02-04 00:59:01|2021-02-04 01:05:38|          37|          36|   null|          37|     Brooklyn|      Bushwick South|\n",
      "|           HV0003|              B02875|2021-02-04 19:39:09|2021-02-04 19:44:16|          37|          36|   null|          37|     Brooklyn|      Bushwick South|\n",
      "|           HV0003|              B02835|2021-02-03 06:03:24|2021-02-03 06:19:32|         177|          71|   null|         177|     Brooklyn|          Ocean Hill|\n",
      "|           HV0003|              B02884|2021-02-04 18:07:48|2021-02-04 18:15:29|         161|         233|   null|         161|    Manhattan|      Midtown Center|\n",
      "+-----------------+--------------------+-------------------+-------------------+------------+------------+-------+------------+-------------+--------------------+\n",
      "only showing top 20 rows\n",
      "\n"
     ]
    },
    {
     "name": "stderr",
     "output_type": "stream",
     "text": [
      "\r",
      "[Stage 57:=====================>                                    (3 + 5) / 8]\r",
      "\r",
      "                                                                                \r"
     ]
    }
   ],
   "source": [
    "df_join_temp.show()"
   ]
  },
  {
   "cell_type": "code",
   "execution_count": 77,
   "id": "f25e3288",
   "metadata": {},
   "outputs": [],
   "source": [
    "df_join = df_join_temp.join(zdo, df_join_temp.DOLocationID == zdo.DOLocationID)"
   ]
  },
  {
   "cell_type": "code",
   "execution_count": 78,
   "id": "c505335e",
   "metadata": {},
   "outputs": [
    {
     "name": "stderr",
     "output_type": "stream",
     "text": [
      "                                                                                \r"
     ]
    },
    {
     "data": {
      "text/plain": [
       "Row(hvfhs_license_num='HV0003', dispatching_base_num='B02878', pickup_datetime=datetime.datetime(2021, 2, 2, 18, 18, 35), dropoff_datetime=datetime.datetime(2021, 2, 2, 18, 31, 43), PULocationID=70, DOLocationID=83, SR_Flag=None, PULocationID='70', PUBorough='Queens', PUZone='East Elmhurst', DOLocationID='83', DOBorough='Queens', DOZone='Elmhurst/Maspeth')"
      ]
     },
     "execution_count": 78,
     "metadata": {},
     "output_type": "execute_result"
    }
   ],
   "source": [
    "df_join.head()\n"
   ]
  },
  {
   "cell_type": "code",
   "execution_count": 80,
   "id": "e8ba4f1f",
   "metadata": {
    "scrolled": true
   },
   "outputs": [
    {
     "name": "stderr",
     "output_type": "stream",
     "text": [
      "[Stage 65:=====================>                                    (3 + 5) / 8]\r"
     ]
    },
    {
     "name": "stdout",
     "output_type": "stream",
     "text": [
      "+-----------------+--------------------+-------------------+-------------------+------------+------------+-------+------------+-------------+--------------------+------------+-------------+--------------------+\n",
      "|hvfhs_license_num|dispatching_base_num|    pickup_datetime|   dropoff_datetime|PULocationID|DOLocationID|SR_Flag|PULocationID|    PUBorough|              PUZone|DOLocationID|    DOBorough|              DOZone|\n",
      "+-----------------+--------------------+-------------------+-------------------+------------+------------+-------+------------+-------------+--------------------+------------+-------------+--------------------+\n",
      "|           HV0003|              B02878|2021-02-02 18:18:35|2021-02-02 18:31:43|          70|          83|   null|          70|       Queens|       East Elmhurst|          83|       Queens|    Elmhurst/Maspeth|\n",
      "|           HV0005|              B02510|2021-02-04 05:08:43|2021-02-04 05:20:04|         242|         254|   null|         242|        Bronx|Van Nest/Morris Park|         254|        Bronx|Williamsbridge/Ol...|\n",
      "|           HV0003|              B02872|2021-02-03 18:10:19|2021-02-03 18:26:11|         145|         263|   null|         145|       Queens|Long Island City/...|         263|    Manhattan|      Yorkville West|\n",
      "|           HV0003|              B02765|2021-02-05 05:11:52|2021-02-05 05:15:50|          37|          37|   null|          37|     Brooklyn|      Bushwick South|          37|     Brooklyn|      Bushwick South|\n",
      "|           HV0005|              B02510|2021-02-02 17:52:04|2021-02-02 18:23:03|         132|          61|   null|         132|       Queens|         JFK Airport|          61|     Brooklyn| Crown Heights North|\n",
      "|           HV0003|              B02889|2021-02-02 18:54:44|2021-02-02 19:21:05|          31|          69|   null|          31|        Bronx|          Bronx Park|          69|        Bronx|East Concourse/Co...|\n",
      "|           HV0003|              B02883|2021-02-03 19:06:06|2021-02-03 19:13:17|         197|         258|   null|         197|       Queens|       Richmond Hill|         258|       Queens|           Woodhaven|\n",
      "|           HV0003|              B02878|2021-02-04 07:43:46|2021-02-04 07:59:41|         242|         254|   null|         242|        Bronx|Van Nest/Morris Park|         254|        Bronx|Williamsbridge/Ol...|\n",
      "|           HV0003|              B02887|2021-02-04 09:51:35|2021-02-04 10:24:44|          44|         214|   null|          44|Staten Island|Charleston/Totten...|         214|Staten Island|South Beach/Donga...|\n",
      "|           HV0005|              B02510|2021-02-02 17:22:58|2021-02-02 17:28:26|          85|          71|   null|          85|     Brooklyn|             Erasmus|          71|     Brooklyn|East Flatbush/Far...|\n",
      "|           HV0003|              B02836|2021-02-04 06:51:40|2021-02-04 07:03:29|         224|          13|   null|         224|    Manhattan|Stuy Town/Peter C...|          13|    Manhattan|   Battery Park City|\n",
      "|           HV0003|              B02878|2021-02-02 18:45:21|2021-02-02 19:05:25|         160|           7|   null|         160|       Queens|      Middle Village|           7|       Queens|             Astoria|\n",
      "|           HV0003|              B02869|2021-02-03 19:17:43|2021-02-03 19:33:26|          39|          72|   null|          39|     Brooklyn|            Canarsie|          72|     Brooklyn|East Flatbush/Rem...|\n",
      "|           HV0003|              B02872|2021-02-03 14:06:00|2021-02-03 14:22:33|         186|           4|   null|         186|    Manhattan|Penn Station/Madi...|           4|    Manhattan|       Alphabet City|\n",
      "|           HV0005|              B02510|2021-02-04 00:22:01|2021-02-04 00:33:59|          74|          74|   null|          74|    Manhattan|   East Harlem North|          74|    Manhattan|   East Harlem North|\n",
      "|           HV0005|              B02510|2021-02-03 12:52:21|2021-02-03 13:10:03|          89|          85|   null|          89|     Brooklyn|Flatbush/Ditmas Park|          85|     Brooklyn|             Erasmus|\n",
      "|           HV0005|              B02510|2021-02-04 00:59:01|2021-02-04 01:05:38|          37|          36|   null|          37|     Brooklyn|      Bushwick South|          36|     Brooklyn|      Bushwick North|\n",
      "|           HV0003|              B02875|2021-02-04 19:39:09|2021-02-04 19:44:16|          37|          36|   null|          37|     Brooklyn|      Bushwick South|          36|     Brooklyn|      Bushwick North|\n",
      "|           HV0003|              B02835|2021-02-03 06:03:24|2021-02-03 06:19:32|         177|          71|   null|         177|     Brooklyn|          Ocean Hill|          71|     Brooklyn|East Flatbush/Far...|\n",
      "|           HV0003|              B02884|2021-02-04 18:07:48|2021-02-04 18:15:29|         161|         233|   null|         161|    Manhattan|      Midtown Center|         233|    Manhattan| UN/Turtle Bay South|\n",
      "+-----------------+--------------------+-------------------+-------------------+------------+------------+-------+------------+-------------+--------------------+------------+-------------+--------------------+\n",
      "only showing top 20 rows\n",
      "\n"
     ]
    },
    {
     "name": "stderr",
     "output_type": "stream",
     "text": [
      "\r",
      "                                                                                \r"
     ]
    }
   ],
   "source": [
    "df_join.show()"
   ]
  },
  {
   "cell_type": "code",
   "execution_count": 81,
   "id": "606292fb",
   "metadata": {},
   "outputs": [
    {
     "name": "stderr",
     "output_type": "stream",
     "text": [
      "22/03/01 22:01:17 WARN MemoryManager: Total allocation exceeds 95.00% (1,020,054,720 bytes) of heap memory\n",
      "Scaling row group sizes to 95.00% for 8 writers\n",
      "22/03/01 22:01:20 WARN MemoryManager: Total allocation exceeds 95.00% (1,020,054,720 bytes) of heap memory\n",
      "Scaling row group sizes to 95.00% for 8 writers\n",
      "22/03/01 22:01:24 WARN MemoryManager: Total allocation exceeds 95.00% (1,020,054,720 bytes) of heap memory\n",
      "Scaling row group sizes to 95.00% for 8 writers\n",
      "                                                                                \r"
     ]
    }
   ],
   "source": [
    "df_join.drop('PULocationID', 'DOLocationID', 'PULocationID', 'DOLocationID').write.parquet('tmp/hw5')"
   ]
  },
  {
   "cell_type": "code",
   "execution_count": 84,
   "id": "0d961428",
   "metadata": {},
   "outputs": [],
   "source": [
    "df_join = spark.read.parquet('tmp/hw5')"
   ]
  },
  {
   "cell_type": "code",
   "execution_count": 85,
   "id": "ad77dc2f",
   "metadata": {},
   "outputs": [
    {
     "data": {
      "text/plain": [
       "DataFrame[hvfhs_license_num: string, dispatching_base_num: string, pickup_datetime: timestamp, dropoff_datetime: timestamp, SR_Flag: string, PUBorough: string, PUZone: string, DOBorough: string, DOZone: string]"
      ]
     },
     "execution_count": 85,
     "metadata": {},
     "output_type": "execute_result"
    }
   ],
   "source": [
    "df_join"
   ]
  },
  {
   "cell_type": "code",
   "execution_count": 94,
   "id": "941622c3",
   "metadata": {},
   "outputs": [],
   "source": [
    "df_join.registerTempTable('zonestable')"
   ]
  },
  {
   "cell_type": "code",
   "execution_count": 95,
   "id": "443f2b28",
   "metadata": {},
   "outputs": [
    {
     "name": "stderr",
     "output_type": "stream",
     "text": [
      "\r",
      "[Stage 75:>                                                         (0 + 8) / 8]\r"
     ]
    },
    {
     "name": "stdout",
     "output_type": "stream",
     "text": [
      "+--------------------+--------+\n",
      "|              PDpair|count(1)|\n",
      "+--------------------+--------+\n",
      "|East New York/Eas...|   45041|\n",
      "+--------------------+--------+\n",
      "\n"
     ]
    },
    {
     "name": "stderr",
     "output_type": "stream",
     "text": [
      "\r",
      "                                                                                \r"
     ]
    }
   ],
   "source": [
    "spark.sql(\"\"\"\n",
    "SELECT\n",
    "    CONCAT(coalesce(PUZone, 'Unknown'), '/', coalesce(DOZone, 'Unknown')) AS PDpair,\n",
    "    COUNT(1)\n",
    "FROM\n",
    "    zonestable\n",
    "GROUP BY\n",
    "    1\n",
    "ORDER BY\n",
    "    2 DESC\n",
    "LIMIT\n",
    "    1\n",
    ";\n",
    "\"\"\").show()"
   ]
  },
  {
   "cell_type": "code",
   "execution_count": null,
   "id": "e4a35c87",
   "metadata": {},
   "outputs": [],
   "source": []
  }
 ],
 "metadata": {
  "kernelspec": {
   "display_name": "Python 3 (ipykernel)",
   "language": "python",
   "name": "python3"
  },
  "language_info": {
   "codemirror_mode": {
    "name": "ipython",
    "version": 3
   },
   "file_extension": ".py",
   "mimetype": "text/x-python",
   "name": "python",
   "nbconvert_exporter": "python",
   "pygments_lexer": "ipython3",
   "version": "3.9.10"
  }
 },
 "nbformat": 4,
 "nbformat_minor": 5
}
